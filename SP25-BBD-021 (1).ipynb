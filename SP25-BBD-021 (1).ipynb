{
 "cells": [
  {
   "cell_type": "markdown",
   "id": "bc4edaf7-9f39-4810-b3a5-114a592198ea",
   "metadata": {},
   "source": [
    "# Question 1"
   ]
  },
  {
   "cell_type": "code",
   "execution_count": 2,
   "id": "b804c2d0-1ac4-4f51-9ca3-5a43d517dcb8",
   "metadata": {},
   "outputs": [
    {
     "name": "stdout",
     "output_type": "stream",
     "text": [
      "A snake would make a great pet.\n",
      "A mouse would make a great pet.\n",
      "A goat would make a great pet.\n",
      "Any of these animals would make a great pet!\n"
     ]
    }
   ],
   "source": [
    "animals = ['snake', 'mouse', 'goat']\n",
    "for animal in animals:\n",
    "    print(f\"A {animal} would make a great pet.\")\n",
    "print(\"Any of these animals would make a great pet!\")\n"
   ]
  },
  {
   "cell_type": "markdown",
   "id": "5aca2f28-0e49-4fe4-8bb9-9b906ca37911",
   "metadata": {},
   "source": [
    "# Question 2"
   ]
  },
  {
   "cell_type": "code",
   "execution_count": 4,
   "id": "b8511ad7-9147-45eb-ae08-53ba12b4673d",
   "metadata": {},
   "outputs": [
    {
     "name": "stdout",
     "output_type": "stream",
     "text": [
      "3\n",
      "6\n",
      "9\n",
      "12\n",
      "15\n",
      "18\n",
      "21\n",
      "24\n",
      "27\n",
      "30\n",
      "[1, 8, 27, 64, 125, 216, 343, 512, 729, 1000]\n"
     ]
    }
   ],
   "source": [
    "multiples_of_3 = list(range(3, 31, 3))\n",
    "for number in multiples_of_3:\n",
    "    print(number)\n",
    "cubes = [x**3 for x in range(1, 11)]\n",
    "print(cubes)\n"
   ]
  },
  {
   "cell_type": "markdown",
   "id": "010d16eb-a5d8-4afd-9b5e-8ab40777a9cd",
   "metadata": {},
   "source": [
    "# Question 3"
   ]
  },
  {
   "cell_type": "code",
   "execution_count": 17,
   "id": "872003f8-65ef-4e05-9118-a6f09f297d2d",
   "metadata": {},
   "outputs": [
    {
     "name": "stdout",
     "output_type": "stream",
     "text": [
      "stuff chicken\n",
      "steak\n",
      "chicken cashewnut\n",
      "macaroni\n",
      "sushi\n",
      "biryani\n",
      "french fries\n",
      "butter chicken\n",
      "french toast\n",
      "cheese cake\n"
     ]
    }
   ],
   "source": [
    "foods = ('stuff chicken', 'steak', 'chicken cashewnut', 'macaroni', 'sushi')\n",
    "for food in foods:\n",
    "    print(food)\n",
    "foods = ('biryani', 'french fries', 'butter chicken', 'french toast', 'cheese cake')\n",
    "for food in foods:\n",
    "    print(food)"
   ]
  },
  {
   "cell_type": "markdown",
   "id": "36334173-f001-4bf5-8d62-5bc3b2b852ac",
   "metadata": {},
   "source": [
    "# Question 4"
   ]
  },
  {
   "cell_type": "code",
   "execution_count": 8,
   "id": "07af7d84-25ea-4d37-bb9e-a871caa20879",
   "metadata": {},
   "outputs": [
    {
     "name": "stdout",
     "output_type": "stream",
     "text": [
      "Hello anna, thank you for logging in again.\n",
      "Hello flyer, thank you for logging in again.\n",
      "Hello henry, thank you for logging in again.\n",
      "Hello joyce, thank you for logging in again.\n",
      "Hello kate, thank you for logging in again.\n"
     ]
    }
   ],
   "source": [
    "users = ['anna', 'flyer', 'henry', 'joyce', 'kate']\n",
    "for user in users:\n",
    "    if user == 'admin':\n",
    "        print(\"Hello admin, would you like to see a status report?\")\n",
    "    else:\n",
    "        print(f\"Hello {user}, thank you for logging in again.\")"
   ]
  },
  {
   "cell_type": "markdown",
   "id": "622b534b-7a7d-4a82-8fb8-8c209b12e2a5",
   "metadata": {},
   "source": [
    "# Question 5"
   ]
  },
  {
   "cell_type": "code",
   "execution_count": 10,
   "id": "c0830e09-05e5-4986-80a1-1349d4a7e920",
   "metadata": {},
   "outputs": [
    {
     "name": "stdout",
     "output_type": "stream",
     "text": [
      "anna has already been used. You need to create a new one.\n",
      "henry has already been used. You need to create a new one.\n",
      "admin is available.\n",
      "joyce has already been used. You need to create a new one.\n",
      "kate has already been used. You need to create a new one.\n"
     ]
    }
   ],
   "source": [
    "current_users = ['anna', 'flyer', 'henry', 'joyce', 'kate']\n",
    "new_users = ['anna', 'henry', 'admin', 'joyce', 'kate']\n",
    "for new_user in new_users:\n",
    "    if new_user.lower() in [user.lower() for user in current_users]:\n",
    "        print(f\"{new_user} has already been used. You need to create a new one.\")\n",
    "    else:\n",
    "        print(f\"{new_user} is available.\")"
   ]
  },
  {
   "cell_type": "code",
   "execution_count": null,
   "id": "8c85f363-839f-4cd3-9130-da02e23c0fbf",
   "metadata": {},
   "outputs": [],
   "source": []
  }
 ],
 "metadata": {
  "kernelspec": {
   "display_name": "Python [conda env:anaconda3] *",
   "language": "python",
   "name": "conda-env-anaconda3-py"
  },
  "language_info": {
   "codemirror_mode": {
    "name": "ipython",
    "version": 3
   },
   "file_extension": ".py",
   "mimetype": "text/x-python",
   "name": "python",
   "nbconvert_exporter": "python",
   "pygments_lexer": "ipython3",
   "version": "3.12.7"
  }
 },
 "nbformat": 4,
 "nbformat_minor": 5
}
